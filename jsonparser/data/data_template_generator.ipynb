{
 "cells": [
  {
   "cell_type": "code",
   "execution_count": 12,
   "metadata": {},
   "outputs": [],
   "source": [
    "import json\n",
    "from pprint import pprint"
   ]
  },
  {
   "cell_type": "code",
   "execution_count": 25,
   "metadata": {},
   "outputs": [
    {
     "data": {
      "text/plain": [
       "dict_keys(['frames'])"
      ]
     },
     "execution_count": 25,
     "metadata": {},
     "output_type": "execute_result"
    }
   ],
   "source": [
    "with open('example_data.json') as f:\n",
    "    data = json.load(f)\n",
    "\n",
    "data.keys()"
   ]
  },
  {
   "cell_type": "code",
   "execution_count": 27,
   "metadata": {},
   "outputs": [
    {
     "data": {
      "text/plain": [
       "dict_keys(['construction_area', 'lanes_boundaries', 'semantic_lanes', 'semantic_road_description', 'timestamp'])"
      ]
     },
     "execution_count": 27,
     "metadata": {},
     "output_type": "execute_result"
    }
   ],
   "source": [
    "data['frames'][0].keys()\n"
   ]
  },
  {
   "cell_type": "code",
   "execution_count": 29,
   "metadata": {},
   "outputs": [
    {
     "data": {
      "text/plain": [
       "dict_keys(['camera_id', 'cross_check', 'id', 'lane_color', 'lane_type', 'polyline'])"
      ]
     },
     "execution_count": 29,
     "metadata": {},
     "output_type": "execute_result"
    }
   ],
   "source": [
    "data['frames'][0]['lanes_boundaries'][0].keys()"
   ]
  },
  {
   "cell_type": "code",
   "execution_count": 35,
   "metadata": {},
   "outputs": [
    {
     "data": {
      "text/plain": [
       "bool"
      ]
     },
     "execution_count": 35,
     "metadata": {},
     "output_type": "execute_result"
    }
   ],
   "source": [
    "type(data['frames'][0]['construction_area'])"
   ]
  },
  {
   "cell_type": "code",
   "execution_count": 38,
   "metadata": {},
   "outputs": [
    {
     "data": {
      "text/plain": [
       "True"
      ]
     },
     "execution_count": 38,
     "metadata": {},
     "output_type": "execute_result"
    }
   ],
   "source": [
    "type(data['frames'][0]['lanes_boundaries'][0]['polyline'])==list"
   ]
  },
  {
   "cell_type": "code",
   "execution_count": 180,
   "metadata": {},
   "outputs": [],
   "source": [
    "print_val = []\n",
    "def listChecker(my_data, key) :\n",
    "    print(key)\n",
    "    if type(my_data[key]) == list:\n",
    "        if type(my_data[key][0]) == dict:\n",
    "            nested_data = my_data[key][0].keys()\n",
    "            temp_data = my_data[key][0]\n",
    "            val = [listChecker(temp_data, item) for item in nested_data]\n",
    "            return val\n",
    "         "
   ]
  },
  {
   "cell_type": "code",
   "execution_count": 184,
   "metadata": {},
   "outputs": [
    {
     "name": "stdout",
     "output_type": "stream",
     "text": [
      "frames\n",
      "construction_area\n",
      "lanes_boundaries\n",
      "camera_id\n",
      "cross_check\n",
      "id\n",
      "lane_color\n",
      "lane_type\n",
      "polyline\n",
      "lane_orientation\n",
      "point_end\n",
      "point_start\n",
      "semantic_lanes\n",
      "cross_check\n",
      "id\n",
      "semantic_lane_direction\n",
      "semantic_lane_position\n",
      "semantic_lane_type\n",
      "semantic_road_description\n",
      "cross_check\n",
      "id\n",
      "semantic_road_description_point\n",
      "semantic_road_description_type\n",
      "timestamp\n"
     ]
    }
   ],
   "source": [
    "my_val = listChecker(data, 'frames')"
   ]
  },
  {
   "cell_type": "code",
   "execution_count": null,
   "metadata": {},
   "outputs": [],
   "source": []
  },
  {
   "cell_type": "code",
   "execution_count": null,
   "metadata": {},
   "outputs": [],
   "source": []
  }
 ],
 "metadata": {
  "kernelspec": {
   "display_name": "Python 3",
   "language": "python",
   "name": "python3"
  },
  "language_info": {
   "codemirror_mode": {
    "name": "ipython",
    "version": 3
   },
   "file_extension": ".py",
   "mimetype": "text/x-python",
   "name": "python",
   "nbconvert_exporter": "python",
   "pygments_lexer": "ipython3",
   "version": "3.6.8"
  }
 },
 "nbformat": 4,
 "nbformat_minor": 4
}
