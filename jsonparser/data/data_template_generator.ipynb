{
 "cells": [
  {
   "cell_type": "code",
   "execution_count": 267,
   "metadata": {},
   "outputs": [],
   "source": [
    "import json"
   ]
  },
  {
   "cell_type": "code",
   "execution_count": 268,
   "metadata": {},
   "outputs": [],
   "source": [
    "with open('example_data.json') as f:\n",
    "    data = json.load(f)"
   ]
  },
  {
   "cell_type": "code",
   "execution_count": 275,
   "metadata": {},
   "outputs": [],
   "source": [
    "my_dict ={}\n",
    "def JsonTemplateGenerator(my_data, key) :\n",
    "    if (type(my_data[key]) is list):\n",
    "        if type(my_data[key][0]) is dict:\n",
    "            nested_data = my_data[key][0].keys()\n",
    "            temp_data = my_data[key][0]\n",
    "            my_dict[key] = list(nested_data)\n",
    "            [listChecker(temp_data, item) for item in nested_data]     \n",
    "    if type(my_data[key]) is dict:\n",
    "        my_dict[key] = list(my_data[key].keys())"
   ]
  },
  {
   "cell_type": "code",
   "execution_count": 276,
   "metadata": {},
   "outputs": [],
   "source": [
    "JsonTemplateGenerator(data, 'frames')"
   ]
  },
  {
   "cell_type": "code",
   "execution_count": 277,
   "metadata": {},
   "outputs": [
    {
     "name": "stdout",
     "output_type": "stream",
     "text": [
      "{\n",
      "    \"frames\": [\n",
      "        \"construction_area\",\n",
      "        \"lanes_boundaries\",\n",
      "        \"semantic_lanes\",\n",
      "        \"semantic_road_description\",\n",
      "        \"timestamp\"\n",
      "    ],\n",
      "    \"lanes_boundaries\": [\n",
      "        \"camera_id\",\n",
      "        \"cross_check\",\n",
      "        \"id\",\n",
      "        \"lane_color\",\n",
      "        \"lane_type\",\n",
      "        \"polyline\"\n",
      "    ],\n",
      "    \"polyline\": [\n",
      "        \"lane_orientation\",\n",
      "        \"point_end\",\n",
      "        \"point_start\"\n",
      "    ],\n",
      "    \"point_end\": [\n",
      "        \"x\",\n",
      "        \"y\"\n",
      "    ],\n",
      "    \"point_start\": [\n",
      "        \"x\",\n",
      "        \"y\"\n",
      "    ],\n",
      "    \"semantic_lanes\": [\n",
      "        \"cross_check\",\n",
      "        \"id\",\n",
      "        \"semantic_lane_direction\",\n",
      "        \"semantic_lane_position\",\n",
      "        \"semantic_lane_type\"\n",
      "    ],\n",
      "    \"semantic_road_description\": [\n",
      "        \"cross_check\",\n",
      "        \"id\",\n",
      "        \"semantic_road_description_point\",\n",
      "        \"semantic_road_description_type\"\n",
      "    ],\n",
      "    \"semantic_road_description_point\": [\n",
      "        \"x\",\n",
      "        \"y\"\n",
      "    ]\n",
      "}\n"
     ]
    }
   ],
   "source": [
    "print(json.dumps(my_dict, indent=4, separators=(',', ': ')))"
   ]
  },
  {
   "cell_type": "code",
   "execution_count": null,
   "metadata": {},
   "outputs": [],
   "source": []
  }
 ],
 "metadata": {
  "kernelspec": {
   "display_name": "Python 3",
   "language": "python",
   "name": "python3"
  },
  "language_info": {
   "codemirror_mode": {
    "name": "ipython",
    "version": 3
   },
   "file_extension": ".py",
   "mimetype": "text/x-python",
   "name": "python",
   "nbconvert_exporter": "python",
   "pygments_lexer": "ipython3",
   "version": "3.6.8"
  }
 },
 "nbformat": 4,
 "nbformat_minor": 4
}
