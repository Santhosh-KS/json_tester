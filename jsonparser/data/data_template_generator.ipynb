{
 "cells": [
  {
   "cell_type": "code",
   "execution_count": 12,
   "metadata": {},
   "outputs": [],
   "source": [
    "import json\n",
    "from pprint import pprint"
   ]
  },
  {
   "cell_type": "code",
   "execution_count": 25,
   "metadata": {},
   "outputs": [
    {
     "data": {
      "text/plain": [
       "dict_keys(['frames'])"
      ]
     },
     "execution_count": 25,
     "metadata": {},
     "output_type": "execute_result"
    }
   ],
   "source": [
    "with open('example_data.json') as f:\n",
    "    data = json.load(f)\n",
    "\n",
    "data.keys()"
   ]
  },
  {
   "cell_type": "code",
   "execution_count": 270,
   "metadata": {},
   "outputs": [
    {
     "data": {
      "text/plain": [
       "dict_keys(['construction_area', 'lanes_boundaries', 'semantic_lanes', 'semantic_road_description', 'timestamp'])"
      ]
     },
     "execution_count": 270,
     "metadata": {},
     "output_type": "execute_result"
    }
   ],
   "source": [
    "data['frames'][0].keys()"
   ]
  },
  {
   "cell_type": "code",
   "execution_count": 271,
   "metadata": {},
   "outputs": [
    {
     "data": {
      "text/plain": [
       "dict_keys(['camera_id', 'cross_check', 'id', 'lane_color', 'lane_type', 'polyline'])"
      ]
     },
     "execution_count": 271,
     "metadata": {},
     "output_type": "execute_result"
    }
   ],
   "source": [
    "data['frames'][0]['lanes_boundaries'][0].keys()"
   ]
  },
  {
   "cell_type": "code",
   "execution_count": 35,
   "metadata": {},
   "outputs": [
    {
     "data": {
      "text/plain": [
       "bool"
      ]
     },
     "execution_count": 35,
     "metadata": {},
     "output_type": "execute_result"
    }
   ],
   "source": [
    "type(data['frames'][0]['construction_area'])"
   ]
  },
  {
   "cell_type": "code",
   "execution_count": 38,
   "metadata": {},
   "outputs": [
    {
     "data": {
      "text/plain": [
       "True"
      ]
     },
     "execution_count": 38,
     "metadata": {},
     "output_type": "execute_result"
    }
   ],
   "source": [
    "type(data['frames'][0]['lanes_boundaries'][0]['polyline'])==list"
   ]
  },
  {
   "cell_type": "code",
   "execution_count": 303,
   "metadata": {},
   "outputs": [],
   "source": [
    "my_dict ={}\n",
    "def listChecker(my_data, key) :\n",
    "    if type(my_data[key]) == list:\n",
    "        if type(my_data[key][0]) == dict:\n",
    "            nested_data = my_data[key][0].keys()\n",
    "            temp_data = my_data[key][0]\n",
    "            return key,[listChecker(temp_data, item) for item in nested_data]\n",
    "    return key"
   ]
  },
  {
   "cell_type": "code",
   "execution_count": 304,
   "metadata": {},
   "outputs": [],
   "source": [
    "my_val = listChecker(data, 'frames')"
   ]
  },
  {
   "cell_type": "code",
   "execution_count": 305,
   "metadata": {},
   "outputs": [
    {
     "data": {
      "text/plain": [
       "('frames',\n",
       " ['construction_area',\n",
       "  ('lanes_boundaries',\n",
       "   ['camera_id',\n",
       "    'cross_check',\n",
       "    'id',\n",
       "    'lane_color',\n",
       "    'lane_type',\n",
       "    ('polyline', ['lane_orientation', 'point_end', 'point_start'])]),\n",
       "  ('semantic_lanes',\n",
       "   ['cross_check',\n",
       "    'id',\n",
       "    'semantic_lane_direction',\n",
       "    'semantic_lane_position',\n",
       "    'semantic_lane_type']),\n",
       "  ('semantic_road_description',\n",
       "   ['cross_check',\n",
       "    'id',\n",
       "    'semantic_road_description_point',\n",
       "    'semantic_road_description_type']),\n",
       "  'timestamp'])"
      ]
     },
     "execution_count": 305,
     "metadata": {},
     "output_type": "execute_result"
    }
   ],
   "source": [
    "my_val"
   ]
  },
  {
   "cell_type": "code",
   "execution_count": 289,
   "metadata": {},
   "outputs": [
    {
     "data": {
      "text/plain": [
       "tuple"
      ]
     },
     "execution_count": 289,
     "metadata": {},
     "output_type": "execute_result"
    }
   ],
   "source": [
    "type(my_val)"
   ]
  },
  {
   "cell_type": "code",
   "execution_count": 290,
   "metadata": {},
   "outputs": [
    {
     "name": "stdout",
     "output_type": "stream",
     "text": [
      "(0, 'frames')\n"
     ]
    },
    {
     "ename": "ValueError",
     "evalue": "[('construction_area', ''), ('lanes_boundaries', [('camera_id', ''), ('cross_check', ''), ('id', ''), ('lane_color', ''), ('lane_type', ''), ('polyline', [('lane_orientation', ''), ('point_end', ''), ('point_start', '')])]), ('semantic_lanes', [('cross_check', ''), ('id', ''), ('semantic_lane_direction', ''), ('semantic_lane_position', ''), ('semantic_lane_type', '')]), ('semantic_road_description', [('cross_check', ''), ('id', ''), ('semantic_road_description_point', ''), ('semantic_road_description_type', '')]), ('timestamp', '')] is not in list",
     "output_type": "error",
     "traceback": [
      "\u001b[0;31m---------------------------------------------------------------------------\u001b[0m",
      "\u001b[0;31mValueError\u001b[0m                                Traceback (most recent call last)",
      "\u001b[0;32m<ipython-input-290-7beef6d58987>\u001b[0m in \u001b[0;36m<module>\u001b[0;34m\u001b[0m\n\u001b[1;32m      1\u001b[0m \u001b[0;32mfor\u001b[0m \u001b[0mval\u001b[0m \u001b[0;32min\u001b[0m \u001b[0mmy_val\u001b[0m\u001b[0;34m:\u001b[0m\u001b[0;34m\u001b[0m\u001b[0;34m\u001b[0m\u001b[0m\n\u001b[0;32m----> 2\u001b[0;31m     \u001b[0mprint\u001b[0m\u001b[0;34m(\u001b[0m\u001b[0;34m(\u001b[0m\u001b[0mval\u001b[0m\u001b[0;34m.\u001b[0m\u001b[0mindex\u001b[0m\u001b[0;34m(\u001b[0m\u001b[0mval\u001b[0m\u001b[0;34m)\u001b[0m\u001b[0;34m,\u001b[0m\u001b[0mval\u001b[0m\u001b[0;34m)\u001b[0m\u001b[0;34m)\u001b[0m\u001b[0;34m\u001b[0m\u001b[0;34m\u001b[0m\u001b[0m\n\u001b[0m",
      "\u001b[0;31mValueError\u001b[0m: [('construction_area', ''), ('lanes_boundaries', [('camera_id', ''), ('cross_check', ''), ('id', ''), ('lane_color', ''), ('lane_type', ''), ('polyline', [('lane_orientation', ''), ('point_end', ''), ('point_start', '')])]), ('semantic_lanes', [('cross_check', ''), ('id', ''), ('semantic_lane_direction', ''), ('semantic_lane_position', ''), ('semantic_lane_type', '')]), ('semantic_road_description', [('cross_check', ''), ('id', ''), ('semantic_road_description_point', ''), ('semantic_road_description_type', '')]), ('timestamp', '')] is not in list"
     ]
    }
   ],
   "source": [
    "for val in my_val:\n",
    "    print((val.index(val),val))"
   ]
  },
  {
   "cell_type": "code",
   "execution_count": null,
   "metadata": {},
   "outputs": [],
   "source": []
  }
 ],
 "metadata": {
  "kernelspec": {
   "display_name": "Python 3",
   "language": "python",
   "name": "python3"
  },
  "language_info": {
   "codemirror_mode": {
    "name": "ipython",
    "version": 3
   },
   "file_extension": ".py",
   "mimetype": "text/x-python",
   "name": "python",
   "nbconvert_exporter": "python",
   "pygments_lexer": "ipython3",
   "version": "3.6.8"
  }
 },
 "nbformat": 4,
 "nbformat_minor": 4
}
